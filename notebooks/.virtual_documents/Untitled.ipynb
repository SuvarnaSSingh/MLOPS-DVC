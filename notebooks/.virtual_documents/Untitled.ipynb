import os
import pandas as pd


df=pd.read_csv( "../data_given/winequality.csv")


df.head()


df.columns


overview=df.describe()


df.describe()


overview.loc[["min","max"]].to_json("schema_in.json")


class CustomError(Exception ):
    pass 


class NotInRange(Exception):
    def __init__(self,message="value not in range"):
        #self.input_=input_
        self.message=message
        super().__init__(self.message)


raise NotInRange



